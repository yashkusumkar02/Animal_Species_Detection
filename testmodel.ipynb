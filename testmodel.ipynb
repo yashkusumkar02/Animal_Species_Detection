{
 "cells": [
  {
   "cell_type": "code",
   "execution_count": 4,
   "metadata": {},
   "outputs": [
    {
     "name": "stdout",
     "output_type": "stream",
     "text": [
      "1/1 [==============================] - 2s 2s/step\n",
      "[('n02099712', 'Labrador_retriever', 0.76720244)]\n"
     ]
    }
   ],
   "source": [
    "from tensorflow.keras.applications.resnet50 import ResNet50\n",
    "from tensorflow.keras.preprocessing import image\n",
    "from tensorflow.keras.applications.resnet50 import preprocess_input, decode_predictions\n",
    "import numpy as np\n",
    "import csv\n",
    "\n",
    "path=\"Animals/puppy.jpg\"\n",
    "pictures=path\n",
    "model = ResNet50(weights='imagenet') #accessing data set\n",
    "img = image.load_img(pictures, target_size=(224, 224))#reszie image\n",
    "x = image.img_to_array(img)# array conversion\n",
    "x = np.expand_dims(x, axis=0)\n",
    "x = preprocess_input(x)\n",
    "preds = model.predict(x)#predict\n",
    "#print('Predicted:', decode_predictions(preds, top=1)[0])\n",
    "rzt=decode_predictions(preds, top=1)[0]\n",
    "print(rzt)\n",
    "f=open(\"result.csv\",\"r+\",newline=\"\")\n",
    "writer=csv.writer(f)\n",
    "writer.writerows(rzt)\n",
    "f.close()\n",
    "#print(type(rzt))"
   ]
  },
  {
   "cell_type": "code",
   "execution_count": 5,
   "metadata": {},
   "outputs": [
    {
     "name": "stdout",
     "output_type": "stream",
     "text": [
      "1/1 [==============================] - 2s 2s/step\n"
     ]
    }
   ],
   "source": [
    "from tensorflow.keras.applications.resnet50 import ResNet50\n",
    "from tensorflow.keras.preprocessing import image\n",
    "from tensorflow.keras.applications.resnet50 import preprocess_input, decode_predictions\n",
    "import numpy as np\n",
    "import csv\n",
    "\n",
    "path = \"Animals/puppy.jpg\"\n",
    "pictures = path\n",
    "model = ResNet50(weights='imagenet')  # Load pre-trained ResNet50 model\n",
    "img = image.load_img(pictures, target_size=(224, 224))  # Resize image\n",
    "x = image.img_to_array(img)  # Convert image to array\n",
    "x = np.expand_dims(x, axis=0)\n",
    "x = preprocess_input(x)\n",
    "preds = model.predict(x)  # Predict\n",
    "\n",
    "# Decode the predictions\n",
    "decoded_preds = decode_predictions(preds, top=1)[0]\n",
    "\n",
    "# Extract species names and corresponding accuracies\n",
    "species_names = [pred[1].replace('_', ' ') for pred in decoded_preds]\n",
    "accuracies = [pred[2] for pred in decoded_preds]\n",
    "\n",
    "# Save the results in CSV with separate columns for species names and accuracies\n",
    "with open(\"result.csv\", \"w\", newline=\"\") as f:\n",
    "    writer = csv.writer(f)\n",
    "    writer.writerow([\"Species Name\", \"Accuracy\"])\n",
    "    for species_name, accuracy in zip(species_names, accuracies):\n",
    "        writer.writerow([species_name, accuracy])\n"
   ]
  },
  {
   "cell_type": "code",
   "execution_count": 6,
   "metadata": {},
   "outputs": [],
   "source": [
    "import cv2\n",
    "from tensorflow.keras.applications.resnet50 import ResNet50\n",
    "from tensorflow.keras.preprocessing import image\n",
    "from tensorflow.keras.applications.resnet50 import preprocess_input, decode_predictions\n",
    "import numpy as np\n",
    "\n",
    "# Function to predict the species and accuracy\n",
    "def predict_species(img):\n",
    "    model = ResNet50(weights='imagenet')\n",
    "    x = preprocess_input(img)\n",
    "    preds = model.predict(x)\n",
    "    decoded_preds = decode_predictions(preds, top=1)[0]\n",
    "    species_name = decoded_preds[0][1].replace('_', ' ')\n",
    "    accuracy = decoded_preds[0][2]\n",
    "    return species_name, accuracy\n",
    "\n",
    "# Load pre-trained ResNet50 model\n",
    "model = ResNet50(weights='imagenet')\n",
    "\n",
    "# Open the video file\n",
    "video_file = \"Animals/video1.mp4.mp4\"  # Replace with the path to your video\n",
    "cap = cv2.VideoCapture(video_file)\n",
    "\n",
    "while cap.isOpened():\n",
    "    ret, frame = cap.read()\n",
    "    if not ret:\n",
    "        break\n",
    "\n",
    "    # Convert frame to RGB (required for prediction)\n",
    "    frame_rgb = cv2.cvtColor(frame, cv2.COLOR_BGR2RGB)\n",
    "    img = image.array_to_img(frame_rgb)\n",
    "    img = img.resize((224, 224))\n",
    "    img = image.img_to_array(img)\n",
    "    img = np.expand_dims(img, axis=0)\n",
    "    img = preprocess_input(img)\n",
    "\n",
    "    # Predict species and accuracy\n",
    "    species_name, accuracy = predict_species(img)\n",
    "\n",
    "    # Display the species prediction on the frame\n",
    "    frame = cv2.putText(frame, f\"Species: {species_name}\", (20, 50), cv2.FONT_HERSHEY_SIMPLEX, 1, (0, 255, 0), 2)\n",
    "    cv2.imshow(\"Video\", frame)\n",
    "    if cv2.waitKey(1) & 0xFF == ord(\"q\"):\n",
    "        break\n",
    "\n",
    "cap.release()\n",
    "cv2.destroyAllWindows()\n"
   ]
  }
 ],
 "metadata": {
  "kernelspec": {
   "display_name": "Python 3 (ipykernel)",
   "language": "python",
   "name": "python3"
  },
  "language_info": {
   "codemirror_mode": {
    "name": "ipython",
    "version": 3
   },
   "file_extension": ".py",
   "mimetype": "text/x-python",
   "name": "python",
   "nbconvert_exporter": "python",
   "pygments_lexer": "ipython3",
   "version": "3.11.4"
  },
  "vscode": {
   "interpreter": {
    "hash": "332528248867dc12c4a489bec8cbb0df3ac5171c01088c19a44eeea0d8ac343c"
   }
  }
 },
 "nbformat": 4,
 "nbformat_minor": 2
}
